{
 "cells": [
  {
   "cell_type": "markdown",
   "metadata": {},
   "source": [
    "# Relatório do TP2\n",
    "## Data: 2024-09-22\n",
    "## Autor: Maria Pereira\n",
    "\n",
    "## Resumo\n",
    "O TP2 consistiu na elaboração do jogo \"Adivinha o Jogo\" em Python. Foram elaboradas duas vertentes:\n",
    "* O utilizador escolhe um número e o computador adivinha-o;\n",
    "* O computador \"escolhe\" um número e o utilizador adivinha-o, através de pistas fornecidas pelo programa."
   ]
  }
 ],
 "metadata": {
  "kernelspec": {
   "display_name": "Python 3",
   "language": "python",
   "name": "python3"
  },
  "language_info": {
   "name": "python",
   "version": "3.12.6"
  }
 },
 "nbformat": 4,
 "nbformat_minor": 2
}
