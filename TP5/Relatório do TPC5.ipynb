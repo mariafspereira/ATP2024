{
 "cells": [
  {
   "cell_type": "markdown",
   "metadata": {},
   "source": [
    "# Relatório do TPC5\n",
    "## Data: 2024-10-20\n",
    "## Autor: Maria Pereira\n",
    "\n",
    "## Resumo\n",
    "O TPC5 teve como objetivo a realização de uma aplicação para gerir um cinema.\n",
    "\n",
    "A aplicação está preparada para a realização de 5 opções diferentes:\n",
    "(1) Inserir Salas\n",
    "(2) Listar Filmes\n",
    "(3) Disponibilidade de Lugar\n",
    "(4) Editar Salas\n",
    "(5) Vender Bilhete\n",
    "\n",
    "De um modo geral, através destas opções, o utilizador torna-se capaz de manipular facilmente as diferentes salas de um cinema, que poderão, ou não, ter algum filme em exibição. Para além disso, consegue vender bilhetes e aceder aos lugares disponíveis de cada sala, podendo marcá-los como 'R', de Reservado, ou como 'I', de interdito."
   ]
  }
 ],
 "metadata": {
  "kernelspec": {
   "display_name": "Python 3",
   "language": "python",
   "name": "python3"
  },
  "language_info": {
   "name": "python",
   "version": "3.12.6"
  }
 },
 "nbformat": 4,
 "nbformat_minor": 2
}
