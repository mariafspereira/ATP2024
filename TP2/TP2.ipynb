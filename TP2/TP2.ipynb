{
 "cells": [
  {
   "cell_type": "code",
   "execution_count": null,
   "metadata": {},
   "outputs": [],
   "source": [
    "#Vertente onde o utilizador adivinha o número\n",
    "from random import randrange\n",
    "num = int(randrange(0,101))\n",
    "tentativa = int(input('Escolha um número de 0 a 100.'))\n",
    "tentativas = 1\n",
    "\n",
    "while tentativa != num:\n",
    "    if tentativa < num:\n",
    "        print('O número que pensei é maior...')\n",
    "    else:\n",
    "        print('O número que pensei é menor...')\n",
    "    tentativas = tentativas + 1\n",
    "    tentativa = int(input('Escolha um número de 0 a 100.'))\n",
    "\n",
    "print(f'Boa! Acertou em {tentativas} tentativas!')"
   ]
  },
  {
   "cell_type": "code",
   "execution_count": null,
   "metadata": {},
   "outputs": [],
   "source": [
    "#Vertente onde o computador adivinha o número\n",
    "print('Pensa num número de 0 a 100...')\n",
    "min = 0\n",
    "max = 100\n",
    "tentativa = int(randrange(min,max))\n",
    "\n",
    "resposta1 = input(f'O número que pensaste é {tentativa}? s/n')\n",
    "if resposta1 == 's':\n",
    "    print('Boa! Acertei!')\n",
    "elif resposta1 != 's':\n",
    "    if resposta1 == 'n':\n",
    "        while resposta1 == 'n':\n",
    "            resposta2 = input('O número que pensaste é maior ou menor?')\n",
    "            if resposta2 == 'maior':\n",
    "                min = tentativa + 1\n",
    "                tentativa = int(randrange(min,max))\n",
    "                resposta1 = input(f'O número que pensaste é {tentativa}? s/n')\n",
    "                if resposta1 == 's':\n",
    "                    print('Boa! Acertei!')\n",
    "            elif resposta2 == 'menor':\n",
    "                max = tentativa - 1\n",
    "                tentativa = int(randrange(min,max))\n",
    "                resposta1 = input(f'O número que pensaste é {tentativa}? s/n')\n",
    "                if resposta1 == 's':\n",
    "                    print('Boa! Acertei!')\n",
    "            else:\n",
    "                print('Opção desconhecida...')\n",
    "    else:\n",
    "        print('Opção desconhecida...')"
   ]
  }
 ],
 "metadata": {
  "language_info": {
   "name": "python"
  }
 },
 "nbformat": 4,
 "nbformat_minor": 2
}
