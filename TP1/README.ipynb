{
 "cells": [
  {
   "cell_type": "markdown",
   "metadata": {},
   "source": [
    "# Relatório do TP1\n",
    "## Data: 2024-09-09\n",
    "## Autor: Maria Pereira\n",
    "\n",
    "## Resumo\n",
    "O TP1 consistiu na realização de dois exercícios: \n",
    "* O primeiro exercício envolveu a resolução do nível 10 do jogo \"Maze\";\n",
    "* O segundo exercício envolveu a resolução de um desafio proposto pelo professor, no jogo \"Turtle\"."
   ]
  }
 ],
 "metadata": {
  "language_info": {
   "name": "python"
  }
 },
 "nbformat": 4,
 "nbformat_minor": 2
}
