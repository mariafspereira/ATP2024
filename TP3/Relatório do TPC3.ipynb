{
 "cells": [
  {
   "cell_type": "markdown",
   "metadata": {},
   "source": [
    "# Relatório do TPC3\n",
    "## Data: 2024-09-29\n",
    "## Autor: Maria Pereira\n",
    "\n",
    "## Resumo\n",
    "O TP2 consistiu na elaboração do jogo \"Jogo dos Fósforos\" em Python. Foram elaboradas duas vertentes:\n",
    "* O utilizador começa a jogar;\n",
    "* O computador começa a jogar: caso o utilizador opte por uma estratégia correta e não cometa nenhum erro de cálculo, o computador perde. Caso contrário, o computador ganha."
   ]
  }
 ],
 "metadata": {
  "kernelspec": {
   "display_name": "Python 3",
   "language": "python",
   "name": "python3"
  },
  "language_info": {
   "name": "python",
   "version": "3.12.6"
  }
 },
 "nbformat": 4,
 "nbformat_minor": 2
}
