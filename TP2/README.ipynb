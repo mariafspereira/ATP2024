# Relatório do TP2
## Data: 2024-09-22
## Autor: Maria Pereira

## Resumo
O TP2 consistiu na elaboração do jogo "Adivinha o Jogo" em Python. Foram elaboradas duas vertentes:
* O utilizador escolhe um número e o computador adivinha-o;
* O computador "escolhe" um número e o utilizador adivinha-o, através de pistas fornecidas pelo programa.
