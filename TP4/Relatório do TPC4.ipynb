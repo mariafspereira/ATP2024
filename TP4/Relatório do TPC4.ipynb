{
 "cells": [
  {
   "cell_type": "markdown",
   "metadata": {},
   "source": [
    "# Relatório do TPC4\n",
    "## Data: 2024-10-06\n",
    "## Autor: Maria Pereira\n",
    "\n",
    "## Resumo\n",
    "O TP4 consistiu na criação de uma aplicação com as seguintes funções: \n",
    "* Criar lista com N números aleatórios\n",
    "* Criar lista com N números escolhidos pelo utilizador\n",
    "* Calcular a soma dos elementos da lista\n",
    "* Calcular a média dos elementos da lista\n",
    "* Calcular o maior elemento da lista\n",
    "* Calcular o menor elemento da lista\n",
    "* Determinar se a lista está ordenada por ordem crescente\n",
    "* Determinar se a lista está ordenada por ordem decrescente\n",
    "* Procurar um elemento na lista\")\n",
    "* Sair da aplicação"
   ]
  }
 ],
 "metadata": {
  "kernelspec": {
   "display_name": "Python 3",
   "language": "python",
   "name": "python3"
  },
  "language_info": {
   "name": "python",
   "version": "3.12.6"
  }
 },
 "nbformat": 4,
 "nbformat_minor": 2
}
