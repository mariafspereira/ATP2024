{
 "cells": [
  {
   "cell_type": "markdown",
   "metadata": {},
   "source": [
    "# Relatório do TPC5\n",
    "## Data: 2024-10-14\n",
    "## Autor: Maria Pereira\n",
    "\n",
    "## Resumo\n",
    "O TPC6 teve como objetivo a realização de uma aplicação para gestão de alunos.\n",
    "\n",
    "A aplicação está preparada para a realização de 5 opções diferentes:\n",
    "(1) Criar uma turma\n",
    "(2) Inserir um aluno na turma\n",
    "(3) Listar as turma\n",
    "(4) Consultar um aluno por ID\n",
    "(5) Guardar a turma em ficheiro\n",
    "(6) Carregar uma turma dum ficheiro\n",
    "\n",
    "De um modo geral, através destas opções, o utilizador torna-se capaz de manipular facilmente as diferentes turmas de uma escola. Para além disso, consegue adicionar novos alunos às turmas da escola e consultar um aluno pelo seu ID.\n"
   ]
  }
 ],
 "metadata": {
  "kernelspec": {
   "display_name": "Python 3",
   "language": "python",
   "name": "python3"
  },
  "language_info": {
   "name": "python",
   "version": "3.12.6"
  }
 },
 "nbformat": 4,
 "nbformat_minor": 2
}
